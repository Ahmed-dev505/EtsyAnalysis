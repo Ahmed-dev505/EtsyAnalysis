{
 "cells": [
  {
   "cell_type": "markdown",
   "metadata": {},
   "source": [
    "#  Final Project: Etsy Marketplace Exploration"
   ]
  },
  {
   "cell_type": "markdown",
   "metadata": {},
   "source": [
    "## Data Visualization and Modeling"
   ]
  },
  {
   "cell_type": "code",
   "execution_count": 1,
   "metadata": {
    "collapsed": false
   },
   "outputs": [],
   "source": [
    "import pandas as pd\n",
    "import numpy as np\n",
    "from sklearn.linear_model import LogisticRegression\n",
    "import matplotlib.pyplot as plt\n",
    "%matplotlib inline\n",
    "import seaborn as sns\n",
    "from sklearn.cluster import KMeans\n",
    "from pandas.tools.plotting import table"
   ]
  },
  {
   "cell_type": "code",
   "execution_count": 2,
   "metadata": {
    "collapsed": true
   },
   "outputs": [],
   "source": [
    "df = pd.read_csv(\"data_with_dummy.csv\")"
   ]
  },
  {
   "cell_type": "code",
   "execution_count": 3,
   "metadata": {
    "collapsed": false
   },
   "outputs": [],
   "source": [
    "del df['Unnamed: 0']"
   ]
  },
  {
   "cell_type": "code",
   "execution_count": 4,
   "metadata": {
    "collapsed": true
   },
   "outputs": [],
   "source": [
    "del df['oops']"
   ]
  },
  {
   "cell_type": "code",
   "execution_count": 5,
   "metadata": {
    "collapsed": false
   },
   "outputs": [
    {
     "data": {
      "text/html": [
       "<div>\n",
       "<table border=\"1\" class=\"dataframe\">\n",
       "  <thead>\n",
       "    <tr style=\"text-align: right;\">\n",
       "      <th></th>\n",
       "      <th>review_date</th>\n",
       "      <th>shop</th>\n",
       "      <th>top</th>\n",
       "      <th>sub</th>\n",
       "      <th>review_month</th>\n",
       "      <th>season</th>\n",
       "      <th>fall</th>\n",
       "      <th>spring</th>\n",
       "      <th>summer</th>\n",
       "      <th>winter</th>\n",
       "      <th>accessories</th>\n",
       "      <th>bags-and-purses</th>\n",
       "      <th>books-movies-and-music</th>\n",
       "      <th>clothing</th>\n",
       "      <th>craft-supplies-and-tools</th>\n",
       "      <th>electronics-and-accessories</th>\n",
       "      <th>jewelry</th>\n",
       "      <th>shoes</th>\n",
       "      <th>weddings</th>\n",
       "    </tr>\n",
       "  </thead>\n",
       "  <tbody>\n",
       "    <tr>\n",
       "      <th>34774</th>\n",
       "      <td>Aug 6, 2016</td>\n",
       "      <td>FreshyFig</td>\n",
       "      <td>jewelry</td>\n",
       "      <td>bracelets</td>\n",
       "      <td>Aug</td>\n",
       "      <td>summer</td>\n",
       "      <td>0.0</td>\n",
       "      <td>0.0</td>\n",
       "      <td>1.0</td>\n",
       "      <td>0.0</td>\n",
       "      <td>0.0</td>\n",
       "      <td>0.0</td>\n",
       "      <td>0.0</td>\n",
       "      <td>0.0</td>\n",
       "      <td>0.0</td>\n",
       "      <td>0.0</td>\n",
       "      <td>1.0</td>\n",
       "      <td>0.0</td>\n",
       "      <td>0.0</td>\n",
       "    </tr>\n",
       "    <tr>\n",
       "      <th>40507</th>\n",
       "      <td>Jul 10, 2016</td>\n",
       "      <td>ArrowandBoard</td>\n",
       "      <td>jewelry</td>\n",
       "      <td>watches</td>\n",
       "      <td>Jul</td>\n",
       "      <td>summer</td>\n",
       "      <td>0.0</td>\n",
       "      <td>0.0</td>\n",
       "      <td>1.0</td>\n",
       "      <td>0.0</td>\n",
       "      <td>0.0</td>\n",
       "      <td>0.0</td>\n",
       "      <td>0.0</td>\n",
       "      <td>0.0</td>\n",
       "      <td>0.0</td>\n",
       "      <td>0.0</td>\n",
       "      <td>1.0</td>\n",
       "      <td>0.0</td>\n",
       "      <td>0.0</td>\n",
       "    </tr>\n",
       "    <tr>\n",
       "      <th>73212</th>\n",
       "      <td>May 1, 2016</td>\n",
       "      <td>BasketfulOfGrace</td>\n",
       "      <td>weddings</td>\n",
       "      <td>gifts-and-mementos</td>\n",
       "      <td>May</td>\n",
       "      <td>spring</td>\n",
       "      <td>0.0</td>\n",
       "      <td>1.0</td>\n",
       "      <td>0.0</td>\n",
       "      <td>0.0</td>\n",
       "      <td>0.0</td>\n",
       "      <td>0.0</td>\n",
       "      <td>0.0</td>\n",
       "      <td>0.0</td>\n",
       "      <td>0.0</td>\n",
       "      <td>0.0</td>\n",
       "      <td>0.0</td>\n",
       "      <td>0.0</td>\n",
       "      <td>1.0</td>\n",
       "    </tr>\n",
       "  </tbody>\n",
       "</table>\n",
       "</div>"
      ],
      "text/plain": [
       "        review_date              shop       top                 sub  \\\n",
       "34774   Aug 6, 2016         FreshyFig   jewelry           bracelets   \n",
       "40507  Jul 10, 2016     ArrowandBoard   jewelry             watches   \n",
       "73212   May 1, 2016  BasketfulOfGrace  weddings  gifts-and-mementos   \n",
       "\n",
       "      review_month  season  fall  spring  summer  winter  accessories  \\\n",
       "34774          Aug  summer   0.0     0.0     1.0     0.0          0.0   \n",
       "40507          Jul  summer   0.0     0.0     1.0     0.0          0.0   \n",
       "73212          May  spring   0.0     1.0     0.0     0.0          0.0   \n",
       "\n",
       "       bags-and-purses  books-movies-and-music  clothing  \\\n",
       "34774              0.0                     0.0       0.0   \n",
       "40507              0.0                     0.0       0.0   \n",
       "73212              0.0                     0.0       0.0   \n",
       "\n",
       "       craft-supplies-and-tools  electronics-and-accessories  jewelry  shoes  \\\n",
       "34774                       0.0                          0.0      1.0    0.0   \n",
       "40507                       0.0                          0.0      1.0    0.0   \n",
       "73212                       0.0                          0.0      0.0    0.0   \n",
       "\n",
       "       weddings  \n",
       "34774       0.0  \n",
       "40507       0.0  \n",
       "73212       1.0  "
      ]
     },
     "execution_count": 5,
     "metadata": {},
     "output_type": "execute_result"
    }
   ],
   "source": [
    "df.sample(3)"
   ]
  },
  {
   "cell_type": "markdown",
   "metadata": {},
   "source": [
    "#### Plot Clustermap"
   ]
  },
  {
   "cell_type": "code",
   "execution_count": 6,
   "metadata": {
    "collapsed": true
   },
   "outputs": [],
   "source": [
    "sample_df = df[[\"review_date\",\"season\", \"accessories\", \"bags-and-purses\", \"books-movies-and-music\", \"clothing\", \"craft-supplies-and-tools\", \"electronics-and-accessories\", \"jewelry\", \"shoes\", \"weddings\"]]"
   ]
  },
  {
   "cell_type": "code",
   "execution_count": 7,
   "metadata": {
    "collapsed": false
   },
   "outputs": [],
   "source": [
    "s = sample_df.groupby(['season'], as_index=True).sum()"
   ]
  },
  {
   "cell_type": "code",
   "execution_count": 8,
   "metadata": {
    "collapsed": false
   },
   "outputs": [],
   "source": [
    "s = s.drop(s.index[[1]])"
   ]
  },
  {
   "cell_type": "code",
   "execution_count": 9,
   "metadata": {
    "collapsed": false
   },
   "outputs": [
    {
     "data": {
      "text/html": [
       "<div>\n",
       "<table border=\"1\" class=\"dataframe\">\n",
       "  <thead>\n",
       "    <tr style=\"text-align: right;\">\n",
       "      <th></th>\n",
       "      <th>accessories</th>\n",
       "      <th>bags-and-purses</th>\n",
       "      <th>books-movies-and-music</th>\n",
       "      <th>clothing</th>\n",
       "      <th>craft-supplies-and-tools</th>\n",
       "      <th>electronics-and-accessories</th>\n",
       "      <th>jewelry</th>\n",
       "      <th>shoes</th>\n",
       "      <th>weddings</th>\n",
       "    </tr>\n",
       "    <tr>\n",
       "      <th>season</th>\n",
       "      <th></th>\n",
       "      <th></th>\n",
       "      <th></th>\n",
       "      <th></th>\n",
       "      <th></th>\n",
       "      <th></th>\n",
       "      <th></th>\n",
       "      <th></th>\n",
       "      <th></th>\n",
       "    </tr>\n",
       "  </thead>\n",
       "  <tbody>\n",
       "    <tr>\n",
       "      <th>fall</th>\n",
       "      <td>495.0</td>\n",
       "      <td>984.0</td>\n",
       "      <td>204.0</td>\n",
       "      <td>78.0</td>\n",
       "      <td>1483.0</td>\n",
       "      <td>714.0</td>\n",
       "      <td>502.0</td>\n",
       "      <td>361.0</td>\n",
       "      <td>309.0</td>\n",
       "    </tr>\n",
       "    <tr>\n",
       "      <th>spring</th>\n",
       "      <td>1910.0</td>\n",
       "      <td>3454.0</td>\n",
       "      <td>308.0</td>\n",
       "      <td>534.0</td>\n",
       "      <td>5837.0</td>\n",
       "      <td>2992.0</td>\n",
       "      <td>2993.0</td>\n",
       "      <td>851.0</td>\n",
       "      <td>1739.0</td>\n",
       "    </tr>\n",
       "    <tr>\n",
       "      <th>summer</th>\n",
       "      <td>5992.0</td>\n",
       "      <td>6713.0</td>\n",
       "      <td>2631.0</td>\n",
       "      <td>3736.0</td>\n",
       "      <td>18385.0</td>\n",
       "      <td>5524.0</td>\n",
       "      <td>7807.0</td>\n",
       "      <td>1393.0</td>\n",
       "      <td>7643.0</td>\n",
       "    </tr>\n",
       "    <tr>\n",
       "      <th>winter</th>\n",
       "      <td>1292.0</td>\n",
       "      <td>2213.0</td>\n",
       "      <td>386.0</td>\n",
       "      <td>188.0</td>\n",
       "      <td>2859.0</td>\n",
       "      <td>1863.0</td>\n",
       "      <td>1499.0</td>\n",
       "      <td>548.0</td>\n",
       "      <td>602.0</td>\n",
       "    </tr>\n",
       "  </tbody>\n",
       "</table>\n",
       "</div>"
      ],
      "text/plain": [
       "        accessories  bags-and-purses  books-movies-and-music  clothing  \\\n",
       "season                                                                   \n",
       "fall          495.0            984.0                   204.0      78.0   \n",
       "spring       1910.0           3454.0                   308.0     534.0   \n",
       "summer       5992.0           6713.0                  2631.0    3736.0   \n",
       "winter       1292.0           2213.0                   386.0     188.0   \n",
       "\n",
       "        craft-supplies-and-tools  electronics-and-accessories  jewelry  \\\n",
       "season                                                                   \n",
       "fall                      1483.0                        714.0    502.0   \n",
       "spring                    5837.0                       2992.0   2993.0   \n",
       "summer                   18385.0                       5524.0   7807.0   \n",
       "winter                    2859.0                       1863.0   1499.0   \n",
       "\n",
       "         shoes  weddings  \n",
       "season                    \n",
       "fall     361.0     309.0  \n",
       "spring   851.0    1739.0  \n",
       "summer  1393.0    7643.0  \n",
       "winter   548.0     602.0  "
      ]
     },
     "execution_count": 9,
     "metadata": {},
     "output_type": "execute_result"
    }
   ],
   "source": [
    "s"
   ]
  },
  {
   "cell_type": "code",
   "execution_count": 28,
   "metadata": {
    "collapsed": false
   },
   "outputs": [
    {
     "data": {
      "image/png": "[encoded data removed]",
      "text/plain": [
       "<matplotlib.figure.Figure at 0x11d6a97d0>"
      ]
     },
     "metadata": {},
     "output_type": "display_data"
    }
   ],
   "source": [
    "s.plot(kind='bar').tick_params(labelsize='large')\n",
    "#s.legend(fontsize='large')\n",
    "fig = plt.gcf()\n",
    "fig.set_size_inches(18.5, 10.5)\n",
    "fig.savefig('test2png.png', dpi=100)"
   ]
  },
  {
   "cell_type": "code",
   "execution_count": 14,
   "metadata": {
    "collapsed": false
   },
   "outputs": [
    {
     "data": {
      "image/png": "[encoded data removed]",
      "text/plain": [
       "<matplotlib.figure.Figure at 0x11d3e03d0>"
      ]
     },
     "execution_count": 14,
     "metadata": {},
     "output_type": "execute_result"
    }
   ],
   "source": [
    "fig\n"
   ]
  },
  {
   "cell_type": "code",
   "execution_count": null,
   "metadata": {
    "collapsed": true
   },
   "outputs": [],
   "source": []
  },
  {
   "cell_type": "markdown",
   "metadata": {},
   "source": [
    "Based on the heatmap below, it appears that not enough review pages were pulled. The data is disproportionately concentrated in the summer season because the review pages were pulled chronologically. In order to provide a more accurate analysis, you would have to pull all review pages from your sample shops or introduce a second sampling method for the review pages."
   ]
  },
  {
   "cell_type": "code",
   "execution_count": 110,
   "metadata": {
    "collapsed": false
   },
   "outputs": [
    {
     "data": {
      "image/png": "[encoded data removed]",
      "text/plain": [
       "<matplotlib.figure.Figure at 0x10d9ab70>"
      ]
     },
     "metadata": {},
     "output_type": "display_data"
    }
   ],
   "source": [
    "g = sns.clustermap(s)"
   ]
  },
  {
   "cell_type": "code",
   "execution_count": 95,
   "metadata": {
    "collapsed": false
   },
   "outputs": [],
   "source": [
    "k_means = KMeans(init='k-means++', n_clusters=2, n_init=10)\n",
    "k_means.fit(s)\n",
    "k_means_labels = k_means.labels_"
   ]
  },
  {
   "cell_type": "code",
   "execution_count": 96,
   "metadata": {
    "collapsed": false
   },
   "outputs": [
    {
     "data": {
      "text/plain": [
       "array([1, 1, 0, 1])"
      ]
     },
     "execution_count": 96,
     "metadata": {},
     "output_type": "execute_result"
    }
   ],
   "source": [
    "k_means_labels"
   ]
  },
  {
   "cell_type": "code",
   "execution_count": 97,
   "metadata": {
    "collapsed": true
   },
   "outputs": [],
   "source": [
    "clusters = pd.DataFrame(k_means_labels,index=s.index,columns=[\"Cluster\"])\n",
    "s_with_cluster = pd.concat([s, clusters], axis=1)"
   ]
  },
  {
   "cell_type": "code",
   "execution_count": 98,
   "metadata": {
    "collapsed": false
   },
   "outputs": [
    {
     "data": {
      "image/png": "[encoded data removed]",
      "text/plain": [
       "<matplotlib.figure.Figure at 0x11634908>"
      ]
     },
     "metadata": {},
     "output_type": "display_data"
    }
   ],
   "source": [
    "g = sns.lmplot(x=\"shoes\", y=\"weddings\", hue=\"Cluster\", \n",
    "               fit_reg=False, \n",
    "               data=s_with_cluster)"
   ]
  },
  {
   "cell_type": "markdown",
   "metadata": {},
   "source": [
    "### Logistic Regression Model"
   ]
  },
  {
   "cell_type": "markdown",
   "metadata": {},
   "source": [
    "Logistic regression is a way to predict binary (two outcome) variables.\n",
    "It is similar to linear regression because we entering predictor variables into our model, and finding coefficients for each of those variables that describe how a 1 unit increase in the variable relates to the outcome.\n",
    "\n",
    "The key difference is that the outcome isn't continuous, but rather, our model is predicting the log odds of the outcome variable occurring. From the log odds of our outcome occuring, we can know specifically what the odds and probability of our outcome occuring is based on the level of our predictor variables."
   ]
  },
  {
   "cell_type": "markdown",
   "metadata": {},
   "source": [
    "#### A look at the wedding category"
   ]
  },
  {
   "cell_type": "code",
   "execution_count": 11,
   "metadata": {
    "collapsed": false
   },
   "outputs": [
    {
     "data": {
      "text/plain": [
       "0.0    86775\n",
       "1.0    10294\n",
       "Name: weddings, dtype: int64"
      ]
     },
     "execution_count": 11,
     "metadata": {},
     "output_type": "execute_result"
    }
   ],
   "source": [
    "# sales in the wedding category vs. sales in other categories\n",
    "df['weddings'].value_counts()"
   ]
  },
  {
   "cell_type": "code",
   "execution_count": 51,
   "metadata": {
    "collapsed": false
   },
   "outputs": [
    {
     "data": {
      "text/plain": [
       "<matplotlib.axes._subplots.AxesSubplot at 0xc513208>"
      ]
     },
     "execution_count": 51,
     "metadata": {},
     "output_type": "execute_result"
    },
    {
     "data": {
      "image/png": "[encoded data removed]",
      "text/plain": [
       "<matplotlib.figure.Figure at 0xc50c7b8>"
      ]
     },
     "metadata": {},
     "output_type": "display_data"
    }
   ],
   "source": [
    "# Some of the sub categories in top category wedding\n",
    "df['sub'][df.weddings == 1].value_counts().plot(kind='bar')"
   ]
  },
  {
   "cell_type": "code",
   "execution_count": 9,
   "metadata": {
    "collapsed": false
   },
   "outputs": [],
   "source": [
    "wedding_df = df[[\"weddings\",\"winter\",\"summer\",\"spring\",\"fall\"]]"
   ]
  },
  {
   "cell_type": "code",
   "execution_count": 48,
   "metadata": {
    "collapsed": false
   },
   "outputs": [
    {
     "data": {
      "text/plain": [
       "<matplotlib.axes._subplots.AxesSubplot at 0xb192898>"
      ]
     },
     "execution_count": 48,
     "metadata": {},
     "output_type": "execute_result"
    },
    {
     "data": {
      "image/png": "[encoded data removed]",
      "text/plain": [
       "<matplotlib.figure.Figure at 0xc50ca58>"
      ]
     },
     "metadata": {},
     "output_type": "display_data"
    }
   ],
   "source": [
    "df.season.value_counts().plot(kind='bar')"
   ]
  },
  {
   "cell_type": "code",
   "execution_count": 17,
   "metadata": {
    "collapsed": false
   },
   "outputs": [
    {
     "data": {
      "text/html": [
       "<div>\n",
       "<table border=\"1\" class=\"dataframe\">\n",
       "  <thead>\n",
       "    <tr style=\"text-align: right;\">\n",
       "      <th></th>\n",
       "      <th>weddings</th>\n",
       "      <th>winter</th>\n",
       "      <th>summer</th>\n",
       "      <th>spring</th>\n",
       "      <th>fall</th>\n",
       "    </tr>\n",
       "  </thead>\n",
       "  <tbody>\n",
       "    <tr>\n",
       "      <th>71654</th>\n",
       "      <td>1.0</td>\n",
       "      <td>0.0</td>\n",
       "      <td>1.0</td>\n",
       "      <td>0.0</td>\n",
       "      <td>0.0</td>\n",
       "    </tr>\n",
       "    <tr>\n",
       "      <th>72168</th>\n",
       "      <td>1.0</td>\n",
       "      <td>0.0</td>\n",
       "      <td>1.0</td>\n",
       "      <td>0.0</td>\n",
       "      <td>0.0</td>\n",
       "    </tr>\n",
       "    <tr>\n",
       "      <th>72080</th>\n",
       "      <td>1.0</td>\n",
       "      <td>0.0</td>\n",
       "      <td>1.0</td>\n",
       "      <td>0.0</td>\n",
       "      <td>0.0</td>\n",
       "    </tr>\n",
       "    <tr>\n",
       "      <th>11659</th>\n",
       "      <td>1.0</td>\n",
       "      <td>0.0</td>\n",
       "      <td>1.0</td>\n",
       "      <td>0.0</td>\n",
       "      <td>0.0</td>\n",
       "    </tr>\n",
       "    <tr>\n",
       "      <th>75189</th>\n",
       "      <td>1.0</td>\n",
       "      <td>1.0</td>\n",
       "      <td>0.0</td>\n",
       "      <td>0.0</td>\n",
       "      <td>0.0</td>\n",
       "    </tr>\n",
       "    <tr>\n",
       "      <th>77664</th>\n",
       "      <td>1.0</td>\n",
       "      <td>0.0</td>\n",
       "      <td>1.0</td>\n",
       "      <td>0.0</td>\n",
       "      <td>0.0</td>\n",
       "    </tr>\n",
       "    <tr>\n",
       "      <th>75443</th>\n",
       "      <td>1.0</td>\n",
       "      <td>0.0</td>\n",
       "      <td>1.0</td>\n",
       "      <td>0.0</td>\n",
       "      <td>0.0</td>\n",
       "    </tr>\n",
       "    <tr>\n",
       "      <th>77390</th>\n",
       "      <td>1.0</td>\n",
       "      <td>0.0</td>\n",
       "      <td>1.0</td>\n",
       "      <td>0.0</td>\n",
       "      <td>0.0</td>\n",
       "    </tr>\n",
       "  </tbody>\n",
       "</table>\n",
       "</div>"
      ],
      "text/plain": [
       "       weddings  winter  summer  spring  fall\n",
       "71654       1.0     0.0     1.0     0.0   0.0\n",
       "72168       1.0     0.0     1.0     0.0   0.0\n",
       "72080       1.0     0.0     1.0     0.0   0.0\n",
       "11659       1.0     0.0     1.0     0.0   0.0\n",
       "75189       1.0     1.0     0.0     0.0   0.0\n",
       "77664       1.0     0.0     1.0     0.0   0.0\n",
       "75443       1.0     0.0     1.0     0.0   0.0\n",
       "77390       1.0     0.0     1.0     0.0   0.0"
      ]
     },
     "execution_count": 17,
     "metadata": {},
     "output_type": "execute_result"
    }
   ],
   "source": [
    "# seasons in which wedding items were purchased\n",
    "wedding_df[wedding_df.weddings == 1].sample(8)"
   ]
  },
  {
   "cell_type": "code",
   "execution_count": 22,
   "metadata": {
    "collapsed": false
   },
   "outputs": [
    {
     "data": {
      "text/html": [
       "<div>\n",
       "<table border=\"1\" class=\"dataframe\">\n",
       "  <thead>\n",
       "    <tr style=\"text-align: right;\">\n",
       "      <th></th>\n",
       "      <th>weddings</th>\n",
       "      <th>winter</th>\n",
       "      <th>summer</th>\n",
       "      <th>spring</th>\n",
       "      <th>fall</th>\n",
       "    </tr>\n",
       "  </thead>\n",
       "  <tbody>\n",
       "    <tr>\n",
       "      <th>weddings</th>\n",
       "      <td>1.000000</td>\n",
       "      <td>-0.063509</td>\n",
       "      <td>0.089362</td>\n",
       "      <td>-0.036608</td>\n",
       "      <td>-0.035148</td>\n",
       "    </tr>\n",
       "    <tr>\n",
       "      <th>winter</th>\n",
       "      <td>-0.063509</td>\n",
       "      <td>1.000000</td>\n",
       "      <td>-0.463470</td>\n",
       "      <td>-0.189911</td>\n",
       "      <td>-0.086383</td>\n",
       "    </tr>\n",
       "    <tr>\n",
       "      <th>summer</th>\n",
       "      <td>0.089362</td>\n",
       "      <td>-0.463470</td>\n",
       "      <td>1.000000</td>\n",
       "      <td>-0.658166</td>\n",
       "      <td>-0.299373</td>\n",
       "    </tr>\n",
       "    <tr>\n",
       "      <th>spring</th>\n",
       "      <td>-0.036608</td>\n",
       "      <td>-0.189911</td>\n",
       "      <td>-0.658166</td>\n",
       "      <td>1.000000</td>\n",
       "      <td>-0.122671</td>\n",
       "    </tr>\n",
       "    <tr>\n",
       "      <th>fall</th>\n",
       "      <td>-0.035148</td>\n",
       "      <td>-0.086383</td>\n",
       "      <td>-0.299373</td>\n",
       "      <td>-0.122671</td>\n",
       "      <td>1.000000</td>\n",
       "    </tr>\n",
       "  </tbody>\n",
       "</table>\n",
       "</div>"
      ],
      "text/plain": [
       "          weddings    winter    summer    spring      fall\n",
       "weddings  1.000000 -0.063509  0.089362 -0.036608 -0.035148\n",
       "winter   -0.063509  1.000000 -0.463470 -0.189911 -0.086383\n",
       "summer    0.089362 -0.463470  1.000000 -0.658166 -0.299373\n",
       "spring   -0.036608 -0.189911 -0.658166  1.000000 -0.122671\n",
       "fall     -0.035148 -0.086383 -0.299373 -0.122671  1.000000"
      ]
     },
     "execution_count": 22,
     "metadata": {},
     "output_type": "execute_result"
    }
   ],
   "source": [
    "wedding_df.corr()"
   ]
  },
  {
   "cell_type": "code",
   "execution_count": 27,
   "metadata": {
    "collapsed": false
   },
   "outputs": [
    {
     "data": {
      "text/plain": [
       "weddings\n",
       "0.0    0.601337\n",
       "1.0    0.742471\n",
       "Name: summer, dtype: float64"
      ]
     },
     "execution_count": 27,
     "metadata": {},
     "output_type": "execute_result"
    }
   ],
   "source": [
    "# percentage of sales in the summer for weddings vs. other categories\n",
    "wedding_df.groupby(\"weddings\")['summer'].mean()"
   ]
  },
  {
   "cell_type": "code",
   "execution_count": 19,
   "metadata": {
    "collapsed": false
   },
   "outputs": [
    {
     "data": {
      "text/plain": [
       "weddings\n",
       "0.0    0.125013\n",
       "1.0    0.058481\n",
       "Name: winter, dtype: float64"
      ]
     },
     "execution_count": 19,
     "metadata": {},
     "output_type": "execute_result"
    }
   ],
   "source": [
    "# percentage of sales in the winter for weddings vs. other categories\n",
    "wedding_df.groupby(\"weddings\")['winter'].mean()"
   ]
  },
  {
   "cell_type": "code",
   "execution_count": 24,
   "metadata": {
    "collapsed": false
   },
   "outputs": [
    {
     "data": {
      "text/plain": [
       "weddings\n",
       "0.0    0.217563\n",
       "1.0    0.168933\n",
       "Name: spring, dtype: float64"
      ]
     },
     "execution_count": 24,
     "metadata": {},
     "output_type": "execute_result"
    }
   ],
   "source": [
    "# percentage of sales in the spring for weddings vs. other categories\n",
    "wedding_df.groupby(\"weddings\")['spring'].mean()"
   ]
  },
  {
   "cell_type": "code",
   "execution_count": 23,
   "metadata": {
    "collapsed": false
   },
   "outputs": [
    {
     "data": {
      "text/plain": [
       "weddings\n",
       "0.0    0.055557\n",
       "1.0    0.030017\n",
       "Name: fall, dtype: float64"
      ]
     },
     "execution_count": 23,
     "metadata": {},
     "output_type": "execute_result"
    }
   ],
   "source": [
    "# percentage of sales in the fall for weddings vs. other categories\n",
    "wedding_df.groupby(\"weddings\")['fall'].mean()"
   ]
  },
  {
   "cell_type": "markdown",
   "metadata": {},
   "source": [
    "From looking at the group averages, we can tell that wedding items are more likely to sell in the summer than items in other categories. We can also tell that the best season to sell wedding items is in the summer: 74% of wedding items sell in the summer vs only 6% in the winter, 17% in the spring, and 3% in the fall."
   ]
  },
  {
   "cell_type": "code",
   "execution_count": 40,
   "metadata": {
    "collapsed": false,
    "scrolled": true
   },
   "outputs": [
    {
     "data": {
      "text/plain": [
       "1.5062656641604009"
      ]
     },
     "execution_count": 40,
     "metadata": {},
     "output_type": "execute_result"
    }
   ],
   "source": [
    "#Odds of selling other items in summer\n",
    ".601 / (1-.601)"
   ]
  },
  {
   "cell_type": "code",
   "execution_count": 28,
   "metadata": {
    "collapsed": false
   },
   "outputs": [
    {
     "data": {
      "text/plain": [
       "2.875968992248062"
      ]
     },
     "execution_count": 28,
     "metadata": {},
     "output_type": "execute_result"
    }
   ],
   "source": [
    "# Odds of selling wedding items in the summer vs odds of selling wedding items in any other season\n",
    ".742 / (1 - .742)"
   ]
  },
  {
   "cell_type": "code",
   "execution_count": 29,
   "metadata": {
    "collapsed": false
   },
   "outputs": [
    {
     "data": {
      "text/plain": [
       "0.35135135135135137"
      ]
     },
     "execution_count": 29,
     "metadata": {},
     "output_type": "execute_result"
    }
   ],
   "source": [
    "# Odds of selling wedding items in any other season besides summer\n",
    ".26 / (1-.26)"
   ]
  },
  {
   "cell_type": "code",
   "execution_count": 30,
   "metadata": {
    "collapsed": true
   },
   "outputs": [],
   "source": [
    "#Create a logistic regression classifier object\n",
    "#We use C=1000000 to not have our model penalize the predictor (Make it artificially smaller)\n",
    "lm = LogisticRegression(C=100000)"
   ]
  },
  {
   "cell_type": "code",
   "execution_count": 32,
   "metadata": {
    "collapsed": false
   },
   "outputs": [],
   "source": [
    "#Set our X variable to be equal to the column that indicates whether the item sold was in the wedding category or not\n",
    "#Outcome variable is likelihood of the item being sold in the summer \n",
    "X = wedding_df[['weddings']]\n",
    "y= wedding_df['summer']"
   ]
  },
  {
   "cell_type": "code",
   "execution_count": 33,
   "metadata": {
    "collapsed": false
   },
   "outputs": [
    {
     "data": {
      "text/plain": [
       "LogisticRegression(C=100000, class_weight=None, dual=False,\n",
       "          fit_intercept=True, intercept_scaling=1, max_iter=100,\n",
       "          multi_class='ovr', n_jobs=1, penalty='l2', random_state=None,\n",
       "          solver='liblinear', tol=0.0001, verbose=0, warm_start=False)"
      ]
     },
     "execution_count": 33,
     "metadata": {},
     "output_type": "execute_result"
    }
   ],
   "source": [
    "#fit logistic regression model\n",
    "#model how our predictor variable relates to the log odds of the outcome variable\n",
    "lm.fit(X,y)"
   ]
  },
  {
   "cell_type": "code",
   "execution_count": 34,
   "metadata": {
    "collapsed": false
   },
   "outputs": [
    {
     "name": "stdout",
     "output_type": "stream",
     "text": [
      "[('summer', 0.64781505625561109)]\n"
     ]
    }
   ],
   "source": [
    "#look at coefficient for summer\n",
    "print zip([\"summer\"],lm.coef_[0])"
   ]
  },
  {
   "cell_type": "markdown",
   "metadata": {},
   "source": [
    "The coefficient is positive which means that the variable has a positive relationship with the outcome. Specifically, in the summer season, the log odds of selling a wedding item multiply by 0.6478 vs. other seasons"
   ]
  },
  {
   "cell_type": "code",
   "execution_count": 35,
   "metadata": {
    "collapsed": false
   },
   "outputs": [
    {
     "data": {
      "text/plain": [
       "array([ 1.91136005])"
      ]
     },
     "execution_count": 35,
     "metadata": {},
     "output_type": "execute_result"
    }
   ],
   "source": [
    "#exponentiate so that the result is in terms of odds, not log of odds\n",
    "np.exp(lm.coef_[0])"
   ]
  },
  {
   "cell_type": "markdown",
   "metadata": {},
   "source": [
    "By exponentiating the coefficient, we can say the odds of selling a wedding item multiplies by 1.911 for the summer season vs. other seasons"
   ]
  },
  {
   "cell_type": "code",
   "execution_count": 39,
   "metadata": {
    "collapsed": false
   },
   "outputs": [
    {
     "name": "stdout",
     "output_type": "stream",
     "text": [
      "Odds of selling other item categories in summer: 1.508383\n"
     ]
    }
   ],
   "source": [
    "#What are the odds of selling other items in summer?\n",
    "print \"Odds of selling other item categories in summer: %f\" % np.exp(lm.intercept_ )"
   ]
  },
  {
   "cell_type": "code",
   "execution_count": 41,
   "metadata": {
    "collapsed": false
   },
   "outputs": [
    {
     "name": "stdout",
     "output_type": "stream",
     "text": [
      "Odds of selling wedding items in summer: 2.883063\n"
     ]
    }
   ],
   "source": [
    "#What are the odds of selling wedding items in summer?\n",
    "print \"Odds of selling wedding items in summer: %f\" % np.exp(lm.intercept_ + lm.coef_[0] )"
   ]
  },
  {
   "cell_type": "code",
   "execution_count": 100,
   "metadata": {
    "collapsed": false
   },
   "outputs": [
    {
     "name": "stdout",
     "output_type": "stream",
     "text": [
      "Relative Increase of Odds of selling an item in the summer if wedding item vs. another category of item: 1.911360\n"
     ]
    }
   ],
   "source": [
    "odds_ratio= np.exp(lm.intercept_ + lm.coef_[0] ) / np.exp(lm.intercept_ )\n",
    "print \"Relative Increase of Odds of selling an item in the summer if wedding item vs. another category of item: %f\" % odds_ratio"
   ]
  },
  {
   "cell_type": "markdown",
   "metadata": {},
   "source": [
    "### Probablistic Model"
   ]
  },
  {
   "cell_type": "markdown",
   "metadata": {},
   "source": [
    "The logistic regression model can give the specific probability of an item selling in the summer, if we know the item belongs in the wedding category.\n",
    "For example, if we know that the item is in the wedding category, the model can predict the probability of that item selling in the summer using the \"predict_proba\" function."
   ]
  },
  {
   "cell_type": "code",
   "execution_count": 43,
   "metadata": {
    "collapsed": false
   },
   "outputs": [
    {
     "name": "stderr",
     "output_type": "stream",
     "text": [
      "C:\\Users\\jishii\\AppData\\Local\\Continuum\\Anaconda2\\lib\\site-packages\\sklearn\\utils\\validation.py:386: DeprecationWarning: Passing 1d arrays as data is deprecated in 0.17 and willraise ValueError in 0.19. Reshape your data either using X.reshape(-1, 1) if your data has a single feature or X.reshape(1, -1) if it contains a single sample.\n",
      "  DeprecationWarning)\n"
     ]
    },
    {
     "data": {
      "text/plain": [
       "array([[ 0.25752866,  0.74247134]])"
      ]
     },
     "execution_count": 43,
     "metadata": {},
     "output_type": "execute_result"
    }
   ],
   "source": [
    "#set our predictor to just be one row of a wedding item\n",
    "observation = [1]\n",
    "\n",
    "#tell the trained logistic regression object to predict the probability of that observation \n",
    "#belonging to class 0 and the probability of that observation belonging to class 1\n",
    "predictions = lm.predict_proba(observation)\n",
    "predictions"
   ]
  },
  {
   "cell_type": "markdown",
   "metadata": {},
   "source": [
    "Our model gives that item a 25% chance of selling in seasons other than summer, and a 74% chance of selling in the summer.\n",
    "This probability corresponds to the data, where 74% of wedding items sold were in the summer"
   ]
  },
  {
   "cell_type": "markdown",
   "metadata": {},
   "source": [
    "No need to regularlize model since there is only one predictor here and there should be no overfitting."
   ]
  }
 ],
 "metadata": {
  "kernelspec": {
   "display_name": "Python 2",
   "language": "python",
   "name": "python2"
  },
  "language_info": {
   "codemirror_mode": {
    "name": "ipython",
    "version": 2
   },
   "file_extension": ".py",
   "mimetype": "text/x-python",
   "name": "python",
   "nbconvert_exporter": "python",
   "pygments_lexer": "ipython2",
   "version": "2.7.12"
  }
 },
 "nbformat": 4,
 "nbformat_minor": 0
}
